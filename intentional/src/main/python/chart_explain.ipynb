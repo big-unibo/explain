{
 "cells": [
  {
   "cell_type": "code",
   "execution_count": 1,
   "id": "5bc55c71",
   "metadata": {},
   "outputs": [],
   "source": [
    "import pandas as pd\n",
    "import matplotlib.pyplot as plt\n",
    "import matplotlib.font_manager as font_manager\n",
    "import sklearn as sk\n",
    "import numpy as np\n",
    "import os\n",
    "import random\n",
    "\n",
    "# SEED all random generators\n",
    "seed = 4\n",
    "random.seed(seed)\n",
    "os.environ['PYTHONHASHSEED'] = str(seed)\n",
    "np.random.seed(seed)\n",
    "\n",
    "# ==============================================================================\n",
    "# Chart variables\n",
    "# ==============================================================================\n",
    "titlesize = 16\n",
    "subtitlesize = 14\n",
    "labelsize = 14\n",
    "axessize = 12\n",
    "legendsize = 11\n",
    "markersize = 5\n",
    "\n",
    "# http://scipy-cookbook.readthedocs.io/items/Matplotlib_LaTeX_Examples.html\n",
    "plt.rcParams.update(plt.rcParamsDefault)\n",
    "# plt.style.use('grayscale')\n",
    "# plt.rc('text', usetex=True)\n",
    "plt.rc('font', family='serif')\n",
    "plt.rcParams['mathtext.fontset'] = 'dejavuserif'\n",
    "font = font_manager.FontProperties(family='serif', size=legendsize)\n",
    "\n",
    "# Markers - https://matplotlib.org/api/markers_api.html\n",
    "markers = [\"v\", \"^\", \"<\", \">\", \"8\", \"s\", \"p\", \"P\", \"*\", \"+\", \"X\", \"D\", \"o\", \"s\"]\n",
    "linestyle_tuple = [\n",
    "     ('solid', 'solid'),      # Same as (0, ()) or '-'\n",
    "     ('dotted', 'dotted'),    # Same as (0, (1, 1)) or ':'\n",
    "     ('dashed', 'dashed'),    # Same as '--'\n",
    "     ('dashdot', 'dashdot')]  # Same as '-.'\n",
    "\n",
    "linestyle_tuple2 = [\n",
    "#      ('loosely dotted',        (0, (1, 10))),\n",
    "     ('dotted',                (0, (1, 1))),\n",
    "     ('densely dotted',        (0, (1, 1))),\n",
    "\n",
    "#      ('loosely dashed',        (0, (5, 10))),\n",
    "     ('dashed',                (0, (5, 5))),\n",
    "     ('densely dashed',        (0, (5, 1))),\n",
    "\n",
    "#      ('loosely dashdotted',    (0, (3, 10, 1, 10))),\n",
    "     ('dashdotted',            (0, (3, 5, 1, 5))),\n",
    "     ('densely dashdotted',    (0, (3, 1, 1, 1))),\n",
    "\n",
    "     ('dashdotdotted',         (0, (3, 5, 1, 5, 1, 5))),\n",
    "#      ('loosely dashdotdotted', (0, (3, 10, 1, 10, 1, 10))),\n",
    "     ('densely dashdotdotted', (0, (3, 1, 1, 1, 1, 1)))]\n",
    "greyscale = ['silver', 'grey', 'lightgrey', 'black']\n",
    "# Lines - https://matplotlib.org/gallery/lines_bars_and_markers/line_styles_reference.html"
   ]
  },
  {
   "cell_type": "code",
   "execution_count": 2,
   "id": "fb2dcb27",
   "metadata": {},
   "outputs": [
    {
     "name": "stdout",
     "output_type": "stream",
     "text": [
      "<class 'pandas.core.frame.DataFrame'>\n",
      "Int64Index: 60 entries, 0 to 59\n",
      "Data columns (total 12 columns):\n",
      " #   Column                Non-Null Count  Dtype  \n",
      "---  ------                --------------  -----  \n",
      " 0   cardinality           60 non-null     int64  \n",
      " 1   execution_id          60 non-null     object \n",
      " 2   executionplan         60 non-null     object \n",
      " 3   intention             60 non-null     object \n",
      " 4   intention_characters  60 non-null     int64  \n",
      " 5   query_bytes           60 non-null     float64\n",
      " 6   query_characters      60 non-null     float64\n",
      " 7   query_cost            60 non-null     float64\n",
      " 8   query_rows            60 non-null     float64\n",
      " 9   time_model            60 non-null     int64  \n",
      " 10  time_query            60 non-null     int64  \n",
      " 11  time_model_python     60 non-null     int64  \n",
      "dtypes: float64(4), int64(5), object(3)\n",
      "memory usage: 6.1+ KB\n"
     ]
    }
   ],
   "source": [
    "df = pd.read_csv('../../../resources/intention/explain_time.csv')\n",
    "df2 = pd.read_csv('../../../resources/intention/explain_time_python.csv')\n",
    "df = df.merge(df2, on=[\"execution_id\"])\n",
    "df.info()"
   ]
  },
  {
   "cell_type": "code",
   "execution_count": 3,
   "id": "49af6e84",
   "metadata": {},
   "outputs": [
    {
     "data": {
      "text/html": [
       "<div>\n",
       "<style scoped>\n",
       "    .dataframe tbody tr th:only-of-type {\n",
       "        vertical-align: middle;\n",
       "    }\n",
       "\n",
       "    .dataframe tbody tr th {\n",
       "        vertical-align: top;\n",
       "    }\n",
       "\n",
       "    .dataframe thead th {\n",
       "        text-align: right;\n",
       "    }\n",
       "</style>\n",
       "<table border=\"1\" class=\"dataframe\">\n",
       "  <thead>\n",
       "    <tr style=\"text-align: right;\">\n",
       "      <th></th>\n",
       "      <th>$|C|$</th>\n",
       "      <th>Intention</th>\n",
       "      <th>Query</th>\n",
       "      <th>Time model</th>\n",
       "      <th>Time query</th>\n",
       "      <th>Time total</th>\n",
       "    </tr>\n",
       "  </thead>\n",
       "  <tbody>\n",
       "    <tr>\n",
       "      <th>0</th>\n",
       "      <td>36</td>\n",
       "      <td>59</td>\n",
       "      <td>397</td>\n",
       "      <td>0.31</td>\n",
       "      <td>0.04</td>\n",
       "      <td>0.35</td>\n",
       "    </tr>\n",
       "    <tr>\n",
       "      <th>1</th>\n",
       "      <td>323</td>\n",
       "      <td>42</td>\n",
       "      <td>265</td>\n",
       "      <td>0.32</td>\n",
       "      <td>0.03</td>\n",
       "      <td>0.35</td>\n",
       "    </tr>\n",
       "    <tr>\n",
       "      <th>2</th>\n",
       "      <td>540</td>\n",
       "      <td>61</td>\n",
       "      <td>403</td>\n",
       "      <td>0.32</td>\n",
       "      <td>0.05</td>\n",
       "      <td>0.37</td>\n",
       "    </tr>\n",
       "    <tr>\n",
       "      <th>3</th>\n",
       "      <td>1224</td>\n",
       "      <td>64</td>\n",
       "      <td>412</td>\n",
       "      <td>0.32</td>\n",
       "      <td>0.05</td>\n",
       "      <td>0.37</td>\n",
       "    </tr>\n",
       "    <tr>\n",
       "      <th>4</th>\n",
       "      <td>12113</td>\n",
       "      <td>60</td>\n",
       "      <td>400</td>\n",
       "      <td>0.34</td>\n",
       "      <td>0.05</td>\n",
       "      <td>0.39</td>\n",
       "    </tr>\n",
       "    <tr>\n",
       "      <th>5</th>\n",
       "      <td>16949</td>\n",
       "      <td>56</td>\n",
       "      <td>395</td>\n",
       "      <td>0.34</td>\n",
       "      <td>0.07</td>\n",
       "      <td>0.41</td>\n",
       "    </tr>\n",
       "    <tr>\n",
       "      <th>6</th>\n",
       "      <td>18492</td>\n",
       "      <td>55</td>\n",
       "      <td>385</td>\n",
       "      <td>0.35</td>\n",
       "      <td>0.06</td>\n",
       "      <td>0.41</td>\n",
       "    </tr>\n",
       "    <tr>\n",
       "      <th>7</th>\n",
       "      <td>20525</td>\n",
       "      <td>55</td>\n",
       "      <td>392</td>\n",
       "      <td>0.35</td>\n",
       "      <td>0.07</td>\n",
       "      <td>0.42</td>\n",
       "    </tr>\n",
       "    <tr>\n",
       "      <th>8</th>\n",
       "      <td>77832</td>\n",
       "      <td>54</td>\n",
       "      <td>382</td>\n",
       "      <td>0.40</td>\n",
       "      <td>0.07</td>\n",
       "      <td>0.47</td>\n",
       "    </tr>\n",
       "    <tr>\n",
       "      <th>9</th>\n",
       "      <td>86832</td>\n",
       "      <td>67</td>\n",
       "      <td>509</td>\n",
       "      <td>0.41</td>\n",
       "      <td>0.09</td>\n",
       "      <td>0.50</td>\n",
       "    </tr>\n",
       "  </tbody>\n",
       "</table>\n",
       "</div>"
      ],
      "text/plain": [
       "   $|C|$  Intention  Query  Time model  Time query  Time total\n",
       "0     36         59    397        0.31        0.04        0.35\n",
       "1    323         42    265        0.32        0.03        0.35\n",
       "2    540         61    403        0.32        0.05        0.37\n",
       "3   1224         64    412        0.32        0.05        0.37\n",
       "4  12113         60    400        0.34        0.05        0.39\n",
       "5  16949         56    395        0.34        0.07        0.41\n",
       "6  18492         55    385        0.35        0.06        0.41\n",
       "7  20525         55    392        0.35        0.07        0.42\n",
       "8  77832         54    382        0.40        0.07        0.47\n",
       "9  86832         67    509        0.41        0.09        0.50"
      ]
     },
     "execution_count": 3,
     "metadata": {},
     "output_type": "execute_result"
    }
   ],
   "source": [
    "gdf = df.groupby(by=[\"cardinality\"])[[\"time_model_python\", \"time_query\", \"intention_characters\", \"query_characters\"]].min().reset_index()\n",
    "gdf[\"time_query\"] = (gdf[\"time_query\"] / 1000).apply(lambda x: round(x, 2))\n",
    "gdf[\"time_model_python\"] = (gdf[\"time_model_python\"] / 1000).apply(lambda x: round(x, 2))\n",
    "gdf[\"query_characters\"] = gdf[\"query_characters\"].apply(lambda x: int(x))\n",
    "gdf[\"intention_characters\"] = gdf[\"intention_characters\"].apply(lambda x: int(x))\n",
    "gdf[\"Time total\"] = gdf[\"time_model_python\"] + gdf[\"time_query\"]\n",
    "gdf = gdf.rename({\"cardinality\": \"$|C|$\", \"time_query\": \"Time query\", \"time_model_python\": \"Time model\", \"query_characters\": \"Query\", \"intention_characters\": \"Intention\"}, axis=1)\n",
    "gdf = gdf.reindex(sorted(gdf.columns), axis=1)\n",
    "gdf"
   ]
  },
  {
   "cell_type": "code",
   "execution_count": 4,
   "id": "a0057888",
   "metadata": {},
   "outputs": [
    {
     "data": {
      "image/png": "[encoded data removed]",
      "text/plain": [
       "<Figure size 400x300 with 1 Axes>"
      ]
     },
     "metadata": {},
     "output_type": "display_data"
    }
   ],
   "source": [
    "fig, ax = plt.subplots(1, 1, figsize=(4, 3))\n",
    "gdf.plot(x='$|C|$', y='Time total', ax=ax)\n",
    "ax.set_xscale('log')\n",
    "ax.set_ylabel('Time (s)')\n",
    "ax.set_xlabel('$|C|$')\n",
    "fig.tight_layout()"
   ]
  },
  {
   "cell_type": "code",
   "execution_count": 5,
   "id": "0c53abf9",
   "metadata": {},
   "outputs": [
    {
     "name": "stdout",
     "output_type": "stream",
     "text": [
      "\\begin{tabular}{rrrrrr}\n",
      "\\toprule\n",
      " $|C|$ &  Intention &  Query &  Time model &  Time query &  Time total \\\\\n",
      "\\midrule\n",
      "    36 &         59 &    397 &        0.31 &        0.04 &        0.35 \\\\\n",
      "   323 &         42 &    265 &        0.32 &        0.03 &        0.35 \\\\\n",
      "   540 &         61 &    403 &        0.32 &        0.05 &        0.37 \\\\\n",
      "  1224 &         64 &    412 &        0.32 &        0.05 &        0.37 \\\\\n",
      " 12113 &         60 &    400 &        0.34 &        0.05 &        0.39 \\\\\n",
      " 16949 &         56 &    395 &        0.34 &        0.07 &        0.41 \\\\\n",
      " 18492 &         55 &    385 &        0.35 &        0.06 &        0.41 \\\\\n",
      " 20525 &         55 &    392 &        0.35 &        0.07 &        0.42 \\\\\n",
      " 77832 &         54 &    382 &        0.40 &        0.07 &        0.47 \\\\\n",
      " 86832 &         67 &    509 &        0.41 &        0.09 &        0.50 \\\\\n",
      "\\bottomrule\n",
      "\\end{tabular}\n",
      "\n"
     ]
    },
    {
     "name": "stderr",
     "output_type": "stream",
     "text": [
      "/tmp/ipykernel_1457481/268600150.py:1: FutureWarning: In future versions `DataFrame.to_latex` is expected to utilise the base implementation of `Styler.to_latex` for formatting and rendering. The arguments signature may therefore change. It is recommended instead to use `DataFrame.style.to_latex` which also contains additional functionality.\n",
      "  print(gdf.to_latex(index=False, escape=False))\n"
     ]
    }
   ],
   "source": [
    "print(gdf.to_latex(index=False, escape=False))"
   ]
  },
  {
   "cell_type": "code",
   "execution_count": 6,
   "id": "af2001e1",
   "metadata": {},
   "outputs": [
    {
     "data": {
      "text/plain": [
       "0.8538262932217824"
      ]
     },
     "execution_count": 6,
     "metadata": {},
     "output_type": "execute_result"
    }
   ],
   "source": [
    "((gdf[\"Query\"] - gdf[\"Intention\"]) / gdf[\"Query\"]).mean()"
   ]
  },
  {
   "cell_type": "code",
   "execution_count": 7,
   "id": "ba4485b5",
   "metadata": {},
   "outputs": [
    {
     "data": {
      "image/png": "[encoded data removed]",
      "text/plain": [
       "<Figure size 400x300 with 1 Axes>"
      ]
     },
     "metadata": {},
     "output_type": "display_data"
    }
   ],
   "source": [
    "fig, ax = plt.subplots(1, 1, figsize=(4, 3))\n",
    "df3 = pd.read_csv('../../../resources/intention/explain_scalability_python.csv')\n",
    "df3[\"time\"] = df3[\"time\"] / 1000\n",
    "df3.groupby([\"measures\"]).mean().reset_index().plot(ax=ax, x='measures', y='time', legend=False)\n",
    "ax.set_ylabel('Time (sec)')\n",
    "ax.set_xlabel('$|M| - 1$')\n",
    "ax.set_xticks([x for x in range(1, 10)])\n",
    "ax.grid(True)\n",
    "fig.tight_layout()\n",
    "fig.savefig('../../../resources/intention/scalability.pdf')\n",
    "fig.savefig('../../../resources/intention/scalability.svg')"
   ]
  }
 ],
 "metadata": {
  "kernelspec": {
   "display_name": "Python 3 (ipykernel)",
   "language": "python",
   "name": "python3"
  },
  "language_info": {
   "codemirror_mode": {
    "name": "ipython",
    "version": 3
   },
   "file_extension": ".py",
   "mimetype": "text/x-python",
   "name": "python",
   "nbconvert_exporter": "python",
   "pygments_lexer": "ipython3",
   "version": "3.8.10"
  }
 },
 "nbformat": 4,
 "nbformat_minor": 5
}
